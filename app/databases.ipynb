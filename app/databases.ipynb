{
 "cells": [
  {
   "cell_type": "code",
   "execution_count": 84,
   "metadata": {},
   "outputs": [],
   "source": [
    "import pandas as pd\n",
    "from flask import Flask \n",
    "import flask_sqlalchemy as sa\n",
    "from sqlalchemy.orm import relationship\n",
    "from sqlalchemy.orm import mapped_column"
   ]
  },
  {
   "cell_type": "code",
   "execution_count": 85,
   "metadata": {},
   "outputs": [],
   "source": [
    "# create the extension\n",
    "db = sa.SQLAlchemy()\n",
    "app = Flask(__name__)\n",
    "# configure the SQLite database, relative to the app instance folder\n",
    "app.config[\"SQLALCHEMY_DATABASE_URI\"] = \"sqlite:///project.db\"\n",
    "# initialize the app with the extension\n",
    "db.init_app(app)"
   ]
  },
  {
   "cell_type": "code",
   "execution_count": 86,
   "metadata": {},
   "outputs": [],
   "source": [
    "class Champions(db.Model):\n",
    "    champion_match_id = db.Column(db.Integer, primary_key=True)\n",
    "    match_id = db.Column(db.String)\n",
    "    champion = db.Column(db.String)\n",
    "    win = db.Column(db.Integer)"
   ]
  },
  {
   "cell_type": "code",
   "execution_count": 87,
   "metadata": {},
   "outputs": [],
   "source": [
    "with app.app_context():\n",
    "    db.create_all()"
   ]
  },
  {
   "cell_type": "code",
   "execution_count": 88,
   "metadata": {},
   "outputs": [],
   "source": [
    "with app.app_context():    \n",
    "    import csv\n",
    "    with open(\"static/data/DATA.csv\") as f:\n",
    "        reader = csv.reader(f)\n",
    "        header = next(reader)\n",
    "        for i in reader:\n",
    "            kwargs = {column: value for column, value in zip(header, i)}\n",
    "            new_entry = Champions(**kwargs)\n",
    "            db.session.add(new_entry)\n",
    "            db.session.commit()"
   ]
  },
  {
   "cell_type": "code",
   "execution_count": 89,
   "metadata": {},
   "outputs": [
    {
     "name": "stdout",
     "output_type": "stream",
     "text": [
      "52360\n",
      "Winrate:  50.0\n"
     ]
    }
   ],
   "source": [
    "with app.app_context():     \n",
    "    count = Champions.query.count()\n",
    "    wins = Champions.query.filter_by(win = \"True\").count()\n",
    "    print(wins)\n",
    "    print(\"Winrate: \", 100 * wins / count)"
   ]
  }
 ],
 "metadata": {
  "kernelspec": {
   "display_name": "app-venv",
   "language": "python",
   "name": "python3"
  },
  "language_info": {
   "codemirror_mode": {
    "name": "ipython",
    "version": 3
   },
   "file_extension": ".py",
   "mimetype": "text/x-python",
   "name": "python",
   "nbconvert_exporter": "python",
   "pygments_lexer": "ipython3",
   "version": "3.12.3"
  }
 },
 "nbformat": 4,
 "nbformat_minor": 2
}
