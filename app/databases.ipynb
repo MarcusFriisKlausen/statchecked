{
 "cells": [
  {
   "cell_type": "code",
   "execution_count": 97,
   "metadata": {},
   "outputs": [],
   "source": [
    "import pandas as pd\n",
    "from flask import Flask \n",
    "import flask_sqlalchemy as sa"
   ]
  },
  {
   "cell_type": "code",
   "execution_count": 98,
   "metadata": {},
   "outputs": [],
   "source": [
    "# create the extension\n",
    "db = sa.SQLAlchemy()\n",
    "app = Flask(__name__)\n",
    "# configure the SQLite database, relative to the app instance folder\n",
    "app.config[\"SQLALCHEMY_DATABASE_URI\"] = \"sqlite:///project.db\"\n",
    "# initialize the app with the extension\n",
    "db.init_app(app)"
   ]
  },
  {
   "cell_type": "code",
   "execution_count": 99,
   "metadata": {},
   "outputs": [],
   "source": [
    "class Champions(db.Model):\n",
    "    champion_match_id = db.Column(db.Integer, primary_key=True)\n",
    "    match_id = db.Column(db.String)\n",
    "    champion = db.Column(db.String)\n",
    "    win = db.Column(db.Integer)"
   ]
  },
  {
   "cell_type": "code",
   "execution_count": 100,
   "metadata": {},
   "outputs": [],
   "source": [
    "with app.app_context():\n",
    "    db.create_all()"
   ]
  },
  {
   "cell_type": "code",
   "execution_count": 101,
   "metadata": {},
   "outputs": [],
   "source": [
    "with app.app_context():    \n",
    "    import csv\n",
    "    with open(\"static/data/Champions.csv\") as f:\n",
    "        reader = csv.reader(f)\n",
    "        header = next(reader)\n",
    "        for i in reader:\n",
    "            kwargs = {column: value for column, value in zip(header, i)}\n",
    "            new_entry = Champions(**kwargs)\n",
    "            db.session.add(new_entry)\n",
    "            db.session.commit()"
   ]
  },
  {
   "cell_type": "code",
   "execution_count": 102,
   "metadata": {},
   "outputs": [
    {
     "name": "stdout",
     "output_type": "stream",
     "text": [
      "52360\n",
      "Winrate:  50.0\n"
     ]
    }
   ],
   "source": [
    "with app.app_context():     \n",
    "    count = Champions.query.count()\n",
    "    wins = Champions.query.filter_by(win = \"True\").count()\n",
    "    print(wins)\n",
    "    print(\"Winrate: \", 100 * wins / count)"
   ]
  },
  {
   "cell_type": "code",
   "execution_count": 103,
   "metadata": {},
   "outputs": [
    {
     "name": "stdout",
     "output_type": "stream",
     "text": [
      "instance/project.db\n"
     ]
    }
   ],
   "source": [
    "import os\n",
    "db_name = \"project.db\"\n",
    "db_path = os.path.join(\"instance\", db_name)\n",
    "\n",
    "print(db_path)"
   ]
  }
 ],
 "metadata": {
  "kernelspec": {
   "display_name": "app-venv",
   "language": "python",
   "name": "python3"
  },
  "language_info": {
   "codemirror_mode": {
    "name": "ipython",
    "version": 3
   },
   "file_extension": ".py",
   "mimetype": "text/x-python",
   "name": "python",
   "nbconvert_exporter": "python",
   "pygments_lexer": "ipython3",
   "version": "3.12.3"
  }
 },
 "nbformat": 4,
 "nbformat_minor": 2
}
