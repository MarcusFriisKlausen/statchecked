{
 "cells": [
  {
   "cell_type": "code",
   "execution_count": 7,
   "metadata": {},
   "outputs": [],
   "source": [
    "import requests"
   ]
  },
  {
   "cell_type": "code",
   "execution_count": 5,
   "metadata": {},
   "outputs": [],
   "source": [
    "# load .env and fetch api key\n",
    "from dotenv import load_dotenv\n",
    "import os\n",
    "\n",
    "load_dotenv()\n",
    "api_key = os.environ.get('riot_api_key')"
   ]
  },
  {
   "cell_type": "code",
   "execution_count": 49,
   "metadata": {},
   "outputs": [],
   "source": [
    "def get_puuid(summonerId:str=None, gameName:str=None, tagLine:str=None, region:str='europe'):\n",
    "    '''Given summonerId or gameName and tagLine of Riot Account returns the puuid of that account\n",
    "\n",
    "    Arguments:\n",
    "        str: summonerId, defualts to None.\n",
    "        str: gameName, defualts to None.\n",
    "        str: tagLine, defualts to None.\n",
    "        str: region, defualts to 'europe'.\n",
    "\n",
    "    Returns:\n",
    "        str: puuid\n",
    "    '''\n",
    "\n",
    "    if summonerId is not None:\n",
    "        # region tag is a silly little goose\n",
    "        if region == 'europe':\n",
    "            region = 'euw1'\n",
    "        root = f'https://{region}.api.riotgames.com/'\n",
    "        endpoint = 'lol/summoner/v4/summoners/'\n",
    "        request = root + endpoint + summonerId + '?api_key=' + api_key\n",
    "        response = requests.get(request)\n",
    "    else:\n",
    "        if gameName is None or tagLine is None:\n",
    "            raise Exception(\"Please input gameName and tagLine\")\n",
    "\n",
    "        request = f'https://{region}.api.riotgames.com/riot/account/v1/accounts/by-riot-id/{gameName}/{tagLine}?api_key={api_key}'\n",
    "        response = requests.get(request)\n",
    "\n",
    "    if not response.status_code == 200:\n",
    "         raise Exception(\"Response Error: {}\".format(response.status_code))\n",
    "    puuid = response.json()['puuid']\n",
    "\n",
    "    return puuid"
   ]
  },
  {
   "cell_type": "code",
   "execution_count": 53,
   "metadata": {},
   "outputs": [
    {
     "name": "stdout",
     "output_type": "stream",
     "text": [
      "puuid for SONDER#mafk1: smKXivxW6VCPxTu9NyeWVNNObhayvp7njxu8EmGlOxQ94ttoGDGYp7a9-cgB68kxXUj2EhIWysGfVg\n",
      "puuid equal using summonerId vs gameName and tagLine? True\n"
     ]
    }
   ],
   "source": [
    "# testing get_puuid\n",
    "gameName1 = 'SONDER'\n",
    "tagLine1 = 'mafk1'\n",
    "summonerId1 = '0qDuJrMmD3ht2azWwkEZ1iAAuZ3wpWfcrKsTNHe9yIYoEfY'\n",
    "print(\"puuid for SONDER#mafk1: \" + get_puuid(summonerId=summonerId1))\n",
    "print(\"puuid equal using summonerId vs gameName and tagLine?\", get_puuid(gameName=gameName1, tagLine=tagLine1) == get_puuid(summonerId=summonerId1))"
   ]
  },
  {
   "cell_type": "code",
   "execution_count": 69,
   "metadata": {},
   "outputs": [],
   "source": [
    "def get_ranked_match_history(puuid:str=None, region:str='europe', n_matches:int=20):\n",
    "    '''Given puuid of Riot Account, returns a list of match IDs as strings\n",
    "\n",
    "    Arguments:\n",
    "        str: puuid, defualts to None.\n",
    "        str: region, defualts to 'europe'.\n",
    "        int: n_matches, defualts to 20 and must be between 0 and 100 (inclusive).\n",
    "\n",
    "    Returns:\n",
    "        list: match history\n",
    "    '''\n",
    "    \n",
    "    if puuid is None:\n",
    "        raise Exception('Please provide a puuid in string format.')\n",
    "    if n_matches > 100:\n",
    "        raise Exception('Amount of matches cannot exceed 100.')\n",
    "    if n_matches < 0:\n",
    "        raise Exception('Amount of matches must be at least 0.')\n",
    "\n",
    "    root = f'https://{region}.api.riotgames.com/'\n",
    "    endpoint = 'lol/match/v5/matches/by-puuid/'\n",
    "    request = root + endpoint + puuid + '/ids?type=ranked&start=0&n_matches=' + str(n_matches) + '&api_key=' + api_key\n",
    "    response = requests.get(request)\n",
    "\n",
    "    if not response.status_code == 200:\n",
    "         raise Exception(\"Response Error: {}\".format(response.status_code))\n",
    "\n",
    "    return response.json()\n",
    "    \n"
   ]
  },
  {
   "cell_type": "code",
   "execution_count": 68,
   "metadata": {},
   "outputs": [
    {
     "data": {
      "text/plain": [
       "['EUW1_6914529767',\n",
       " 'EUW1_6914465533',\n",
       " 'EUW1_6914415568',\n",
       " 'EUW1_6912180295',\n",
       " 'EUW1_6912127841',\n",
       " 'EUW1_6912080895',\n",
       " 'EUW1_6912002993',\n",
       " 'EUW1_6911910450',\n",
       " 'EUW1_6911741762',\n",
       " 'EUW1_6910380655',\n",
       " 'EUW1_6910321695',\n",
       " 'EUW1_6910250611',\n",
       " 'EUW1_6910165404',\n",
       " 'EUW1_6910117658',\n",
       " 'EUW1_6909920044',\n",
       " 'EUW1_6909864912',\n",
       " 'EUW1_6909790295',\n",
       " 'EUW1_6909746745',\n",
       " 'EUW1_6906674085',\n",
       " 'EUW1_6906634163']"
      ]
     },
     "execution_count": 68,
     "metadata": {},
     "output_type": "execute_result"
    }
   ],
   "source": [
    "get_ranked_match_history(puuid='smKXivxW6VCPxTu9NyeWVNNObhayvp7njxu8EmGlOxQ94ttoGDGYp7a9-cgB68kxXUj2EhIWysGfVg')"
   ]
  }
 ],
 "metadata": {
  "kernelspec": {
   "display_name": "venv",
   "language": "python",
   "name": "python3"
  },
  "language_info": {
   "codemirror_mode": {
    "name": "ipython",
    "version": 3
   },
   "file_extension": ".py",
   "mimetype": "text/x-python",
   "name": "python",
   "nbconvert_exporter": "python",
   "pygments_lexer": "ipython3",
   "version": "3.11.8"
  }
 },
 "nbformat": 4,
 "nbformat_minor": 2
}
