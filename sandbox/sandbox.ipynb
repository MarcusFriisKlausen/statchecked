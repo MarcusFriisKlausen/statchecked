{
 "cells": [
  {
   "cell_type": "code",
   "execution_count": 6,
   "metadata": {},
   "outputs": [],
   "source": [
    "import requests\n",
    "import pandas as pd"
   ]
  },
  {
   "cell_type": "code",
   "execution_count": 7,
   "metadata": {},
   "outputs": [],
   "source": [
    "# load .env and fetch api key\n",
    "from dotenv import load_dotenv\n",
    "import os\n",
    "\n",
    "load_dotenv()\n",
    "api_key = os.environ.get('riot_api_key')"
   ]
  },
  {
   "cell_type": "code",
   "execution_count": 8,
   "metadata": {},
   "outputs": [],
   "source": [
    "def get_puuid(summonerId:str=None, gameName:str=None, tagLine:str=None, region:str='europe'):\n",
    "    '''Given summonerId or gameName and tagLine of Riot Account returns the puuid of that account\n",
    "\n",
    "    Arguments:\n",
    "        str: summonerId, defualts to None.\n",
    "        str: gameName, defualts to None.\n",
    "        str: tagLine, defualts to None.\n",
    "        str: region, defualts to 'europe'.\n",
    "\n",
    "    Returns:\n",
    "        str: puuid\n",
    "    '''\n",
    "\n",
    "    if summonerId is not None:\n",
    "        # region tag is a silly little goose\n",
    "        if region == 'europe':\n",
    "            region = 'euw1'\n",
    "        root = f'https://{region}.api.riotgames.com/'\n",
    "        endpoint = 'lol/summoner/v4/summoners/'\n",
    "        request = root + endpoint + summonerId + '?api_key=' + api_key\n",
    "        response = requests.get(request)\n",
    "    else:\n",
    "        if gameName is None or tagLine is None:\n",
    "            raise Exception(\"Please input gameName and tagLine\")\n",
    "\n",
    "        request = f'https://{region}.api.riotgames.com/riot/account/v1/accounts/by-riot-id/{gameName}/{tagLine}?api_key={api_key}'\n",
    "        response = requests.get(request)\n",
    "\n",
    "    if not response.status_code == 200:\n",
    "         raise Exception(\"Response Error: {}\".format(response.status_code))\n",
    "    puuid = response.json()['puuid']\n",
    "\n",
    "    return puuid"
   ]
  },
  {
   "cell_type": "code",
   "execution_count": 9,
   "metadata": {},
   "outputs": [
    {
     "name": "stdout",
     "output_type": "stream",
     "text": [
      "puuid for SONDER#mafk1: smKXivxW6VCPxTu9NyeWVNNObhayvp7njxu8EmGlOxQ94ttoGDGYp7a9-cgB68kxXUj2EhIWysGfVg\n",
      "puuid equal using summonerId vs gameName and tagLine? True\n"
     ]
    }
   ],
   "source": [
    "# testing get_puuid\n",
    "gameName1 = 'SONDER'\n",
    "tagLine1 = 'mafk1'\n",
    "summonerId1 = '0qDuJrMmD3ht2azWwkEZ1iAAuZ3wpWfcrKsTNHe9yIYoEfY'\n",
    "print(\"puuid for SONDER#mafk1: \" + get_puuid(summonerId=summonerId1))\n",
    "print(\"puuid equal using summonerId vs gameName and tagLine?\", get_puuid(gameName=gameName1, tagLine=tagLine1) == get_puuid(summonerId=summonerId1))"
   ]
  },
  {
   "cell_type": "code",
   "execution_count": 10,
   "metadata": {},
   "outputs": [],
   "source": [
    "def get_ranked_match_history(puuid:str=None, region:str='europe', n_matches:int=20):\n",
    "    '''Given puuid of Riot Account, returns a list of match IDs as strings\n",
    "\n",
    "    Arguments:\n",
    "        str: puuid, defualts to None.\n",
    "        str: region, defualts to 'europe'.\n",
    "        int: n_matches, defualts to 20 and must be between 0 and 100 (inclusive).\n",
    "\n",
    "    Returns:\n",
    "        list: match IDs as strings\n",
    "    '''\n",
    "    \n",
    "    if puuid is None:\n",
    "        raise Exception('Please provide a puuid in string format.')\n",
    "    if n_matches > 100:\n",
    "        raise Exception('Amount of matches cannot exceed 100.')\n",
    "    if n_matches < 0:\n",
    "        raise Exception('Amount of matches must be at least 0.')\n",
    "\n",
    "    root = f'https://{region}.api.riotgames.com/'\n",
    "    endpoint = f'lol/match/v5/matches/by-puuid/{puuid}'\n",
    "    request = root + endpoint + '/ids?type=ranked&start=0&n_matches=' + str(n_matches) + '&api_key=' + api_key\n",
    "    response = requests.get(request)\n",
    "\n",
    "    if not response.status_code == 200:\n",
    "         raise Exception(\"Response Error: {}\".format(response.status_code))\n",
    "\n",
    "    return response.json()\n",
    "    \n"
   ]
  },
  {
   "cell_type": "code",
   "execution_count": 11,
   "metadata": {},
   "outputs": [
    {
     "name": "stdout",
     "output_type": "stream",
     "text": [
      "Amount of matches is 20? True\n"
     ]
    },
    {
     "data": {
      "text/plain": [
       "['EUW1_6952527686',\n",
       " 'EUW1_6952505511',\n",
       " 'EUW1_6952481621',\n",
       " 'EUW1_6952464749',\n",
       " 'EUW1_6952440607',\n",
       " 'EUW1_6952040165',\n",
       " 'EUW1_6952003281',\n",
       " 'EUW1_6951966254',\n",
       " 'EUW1_6951935148',\n",
       " 'EUW1_6951916614',\n",
       " 'EUW1_6949831247',\n",
       " 'EUW1_6949811541',\n",
       " 'EUW1_6949786554',\n",
       " 'EUW1_6949744355',\n",
       " 'EUW1_6948333566',\n",
       " 'EUW1_6948254395',\n",
       " 'EUW1_6948237653',\n",
       " 'EUW1_6947107179',\n",
       " 'EUW1_6947079585',\n",
       " 'EUW1_6947055813']"
      ]
     },
     "execution_count": 11,
     "metadata": {},
     "output_type": "execute_result"
    }
   ],
   "source": [
    "# testing get_ranked_match_history\n",
    "print(\"Amount of matches is 20?\", len(get_ranked_match_history(puuid='smKXivxW6VCPxTu9NyeWVNNObhayvp7njxu8EmGlOxQ94ttoGDGYp7a9-cgB68kxXUj2EhIWysGfVg')) == 20)\n",
    "get_ranked_match_history(puuid=get_puuid(summonerId=summonerId1))"
   ]
  },
  {
   "cell_type": "code",
   "execution_count": 12,
   "metadata": {},
   "outputs": [],
   "source": [
    "def get_match_data(matchId:str=None, region='europe'):\n",
    "    '''Given League of Legends Match ID, returns a pandas dataframe of useful match data\n",
    "\n",
    "    Arguments:\n",
    "        str: matchId, defualts to None.\n",
    "        str: region, defualts to 'europe'.\n",
    "\n",
    "    Returns:\n",
    "        dataframe: match data\n",
    "    '''\n",
    "\n",
    "    root = f'https://{region}.api.riotgames.com/'\n",
    "    endpoint = f'lol/match/v5/matches/{matchId}'\n",
    "    request = root + endpoint + '?api_key=' + api_key\n",
    "    response = requests.get(request)\n",
    "\n",
    "    if not response.status_code == 200:\n",
    "         raise Exception(\"Response Error: {}\".format(response.status_code))\n",
    "\n",
    "    df = pd.DataFrame.from_dict(response.json())\n",
    "\n",
    "    return df\n",
    "    "
   ]
  },
  {
   "cell_type": "markdown",
   "metadata": {},
   "source": [
    "# What info does get_match_data dataframe contain?\n",
    "\n",
    "## InfoDto\n",
    "\n",
    "- gameVersion - contains patch info\n",
    "- participants - list of ParticipantDto\n",
    "\n",
    "## ParticipantDto\n",
    "\n",
    "- championName -  name of champion played\n",
    "- championTransform - used for Kayn transformation, which can either be 0 (None), 1 (Slayer) or 2 (Assassin)\n",
    "- item0\n",
    "- item1\n",
    "- item2\n",
    "- item3\n",
    "- item4\n",
    "- item5\n",
    "- item6\n",
    "- lane - lane played\n",
    "- perks - perksDto\n",
    "\n",
    "## PerksDto\n",
    "\n",
    "- statPerks -  PerkStatsDto\n",
    "- styles - list of PerkStyleDto\n",
    "\n",
    "## PerkStatsDto\n",
    "\n",
    "- defense\n",
    "- flex\n",
    "- offense\n",
    "\n",
    "## PerkStyleDto\n",
    "\n",
    "- description\n",
    "- selections - list of PerkStyleSelectionDto\n",
    "- style\n",
    "\n",
    "## PerkStyleSelectionDto\n",
    "\n",
    "- perk\n",
    "- var1\n",
    "- var2\n",
    "- var3\n",
    "\n",
    "## TeamDto\n",
    "\n",
    "- win"
   ]
  },
  {
   "cell_type": "code",
   "execution_count": 15,
   "metadata": {},
   "outputs": [
    {
     "name": "stdout",
     "output_type": "stream",
     "text": [
      "875\n",
      "True\n"
     ]
    }
   ],
   "source": [
    "champion = get_match_data(matchId='EUW1_6906634163')['info']['participants'][0]['championId']\n",
    "win = get_match_data(matchId='EUW1_6906634163')['info']['participants'][0]['win']\n",
    "\n",
    "print(champion)\n",
    "print(win)"
   ]
  },
  {
   "cell_type": "code",
   "execution_count": 17,
   "metadata": {},
   "outputs": [
    {
     "name": "stdout",
     "output_type": "stream",
     "text": [
      "Empty DataFrame\n",
      "Columns: [match_id, champion, win]\n",
      "Index: []\n"
     ]
    }
   ],
   "source": [
    "test_data = {\n",
    "    \"match_id\": [],\n",
    "    \"champion\": [],\n",
    "    \"win\": []\n",
    "}\n",
    "test_df = pd.DataFrame(test_data)\n",
    "\n",
    "print(test_df)"
   ]
  },
  {
   "cell_type": "code",
   "execution_count": 40,
   "metadata": {},
   "outputs": [
    {
     "name": "stdout",
     "output_type": "stream",
     "text": [
      "Empty DataFrame\n",
      "Columns: [match_id, champion, win]\n",
      "Index: []\n",
      "420\n",
      "420\n",
      "1700\n",
      "1700\n",
      "1700\n",
      "420\n",
      "420\n",
      "420\n",
      "420\n",
      "420\n",
      "420\n",
      "420\n",
      "420\n",
      "440\n",
      "440\n",
      "420\n",
      "420\n",
      "420\n",
      "420\n",
      "420\n",
      "Time elapsed: 4.524739027023315\n",
      "            match_id  champion    win\n",
      "0    EUW1_6956655366       126  False\n",
      "1    EUW1_6956655366       234  False\n",
      "2    EUW1_6956655366        84  False\n",
      "3    EUW1_6956655366       202  False\n",
      "4    EUW1_6956655366        37  False\n",
      "..               ...       ...    ...\n",
      "145  EUW1_6952472199       266  False\n",
      "146  EUW1_6952472199        79  False\n",
      "147  EUW1_6952472199       517  False\n",
      "148  EUW1_6952472199        51  False\n",
      "149  EUW1_6952472199       902  False\n",
      "\n",
      "[150 rows x 3 columns]\n"
     ]
    }
   ],
   "source": [
    "import time\n",
    "\n",
    "c = {\n",
    "    \"match_id\": [],\n",
    "    \"champion\": [],\n",
    "    \"win\": []\n",
    "}\n",
    "\n",
    "gathered_data = pd.DataFrame(c)\n",
    "\n",
    "print(gathered_data)\n",
    "\n",
    "def gather_los_dataos(matches):\n",
    "    count = 0\n",
    "    for match in matches:\n",
    "        if not match in gathered_data['match_id'].value_counts().keys():\n",
    "            if count % 100 == 0 and count > 0: # make sure we don't exceed max number of API calls per 2 minutes\n",
    "                time.sleep(120)\n",
    "            info = get_match_data(matchId=match)['info']\n",
    "            participants = info['participants']\n",
    "            count += 1\n",
    "            if not info['queueId'] == 420:\n",
    "                continue\n",
    "            for participant in participants:\n",
    "                champion = participant['championId']\n",
    "                win = participant['win']\n",
    "                gathered_data.loc[len(gathered_data.index)] = [match, champion, win]\n",
    "\n",
    "                \n",
    "start_time = time.time()\n",
    "#gather_los_dataos(['EUW1_6906634163', 'EUW1_6906634163'])\n",
    "gather_los_dataos(get_ranked_match_history(puuid=get_puuid(gameName='Dunkvern', tagLine='EUW')))\n",
    "print('Time elapsed: %s' % (time.time() - start_time))\n",
    "print(gathered_data)"
   ]
  },
  {
   "cell_type": "code",
   "execution_count": 41,
   "metadata": {},
   "outputs": [
    {
     "name": "stdout",
     "output_type": "stream",
     "text": [
      "match_id\n",
      "EUW1_6956655366    10\n",
      "EUW1_6956647517    10\n",
      "EUW1_6956213134    10\n",
      "EUW1_6956168957    10\n",
      "EUW1_6955324041    10\n",
      "EUW1_6955253299    10\n",
      "EUW1_6954597565    10\n",
      "EUW1_6954571990    10\n",
      "EUW1_6954563868    10\n",
      "EUW1_6954320659    10\n",
      "EUW1_6952789569    10\n",
      "EUW1_6952739969    10\n",
      "EUW1_6952681798    10\n",
      "EUW1_6952517112    10\n",
      "EUW1_6952472199    10\n",
      "Name: count, dtype: int64\n"
     ]
    }
   ],
   "source": [
    "print(gathered_data['match_id'].value_counts())"
   ]
  }
 ],
 "metadata": {
  "kernelspec": {
   "display_name": "venv",
   "language": "python",
   "name": "python3"
  },
  "language_info": {
   "codemirror_mode": {
    "name": "ipython",
    "version": 3
   },
   "file_extension": ".py",
   "mimetype": "text/x-python",
   "name": "python",
   "nbconvert_exporter": "python",
   "pygments_lexer": "ipython3",
   "version": "3.12.3"
  }
 },
 "nbformat": 4,
 "nbformat_minor": 2
}
